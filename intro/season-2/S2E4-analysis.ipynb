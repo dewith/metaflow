{
 "cells": [
  {
   "cell_type": "markdown",
   "id": "16767287-8ee0-4177-98fb-abadeeda91a8",
   "metadata": {},
   "source": [
    "Make sure that you have run episodes 1, 2, and 3 before running the cells of this notebook!"
   ]
  },
  {
   "cell_type": "markdown",
   "id": "0e3aab93-a31d-44cd-918d-60cb6d2d7a85",
   "metadata": {},
   "source": [
    "In the last three episodes of this season, you have created three flows: \n",
    "* `RandomForestFlow`\n",
    "* `GradientBoostedTreesFlow`\n",
    "* `ParallelTreesFlow`"
   ]
  },
  {
   "cell_type": "markdown",
   "id": "2026b434-b726-45aa-b20b-00d317103499",
   "metadata": {},
   "source": [
    "Let's use the client API to fetch the results of latest run of each flow type and ensure they ran successfully:"
   ]
  },
  {
   "cell_type": "code",
   "execution_count": 1,
   "id": "cce94eba-9530-4555-bdb5-c54662457b4a",
   "metadata": {},
   "outputs": [
    {
     "name": "stdout",
     "output_type": "stream",
     "text": [
      "True\n",
      "True\n",
      "True\n"
     ]
    }
   ],
   "source": [
    "from metaflow import Flow\n",
    "for name in ['RandomForestFlow', 'GradientBoostedTreesFlow', 'ParallelTreesFlow']:\n",
    "    run = Flow(name).latest_run\n",
    "    print(run.successful)"
   ]
  },
  {
   "cell_type": "markdown",
   "id": "0f5eb198-14e0-486a-b219-ead20c6017ad",
   "metadata": {},
   "source": [
    "In the previous example, you saw how to use the `metaflow.Flow` object to access the latest run of that flow like this:"
   ]
  },
  {
   "cell_type": "code",
   "execution_count": 2,
   "id": "3a32e54e-cd79-4a26-8449-67ca5ed7030d",
   "metadata": {},
   "outputs": [],
   "source": [
    "flow_name = 'RandomForestFlow'\n",
    "flow = Flow(flow_name)\n",
    "latest_run = flow.latest_run"
   ]
  },
  {
   "cell_type": "markdown",
   "id": "a596123f-c06c-493b-8ecd-971fa1da9a38",
   "metadata": {},
   "source": [
    "If you know the `id` of a specific run, you can also access it directly without using the flow. \n",
    "This is helpful in cases where your flows have many runs and you want to access a specific run instead of filtering through many of them.\n",
    "\n",
    "Let's use the id property from the latest `RandomForestFlow` run to fetch that run object. You can see the run id in the console output when you run the command: `python <FLOW SCRIPT> run`. "
   ]
  },
  {
   "cell_type": "code",
   "execution_count": 3,
   "id": "418d475f-986b-4d0c-b0cd-4cc764988d6f",
   "metadata": {},
   "outputs": [],
   "source": [
    "from metaflow import Run\n",
    "directly_accessed_run = Run('{}/{}'.format(\n",
    "    flow_name, latest_run.id))"
   ]
  },
  {
   "cell_type": "markdown",
   "id": "f02c1100-6b52-465f-a69f-703548279bb5",
   "metadata": {},
   "source": [
    "You can access any artifact stored using `self` with `<RUN NAME>.data.<ARTIFACT NAME>`.\n",
    "\n",
    "Let's compare the accuracy of the models produced in the `RandomForestFlow` and the `GradientBoostedTreesFlow`. "
   ]
  },
  {
   "cell_type": "code",
   "execution_count": 4,
   "id": "3e5752f8-1e7e-4bcb-bd91-cd81ac736e88",
   "metadata": {},
   "outputs": [
    {
     "name": "stdout",
     "output_type": "stream",
     "text": [
      "Latest RandomForestFlow accuracy was: 96.0 ± 3.266%%\n",
      "Latest GradientBoostedTreesFlow accuracy was: 96.0 ± 1.333%%\n"
     ]
    }
   ],
   "source": [
    "for name in ['RandomForestFlow', 'GradientBoostedTreesFlow']:\n",
    "    run = Flow(name).latest_run\n",
    "    artifacts = run.data\n",
    "    print(\"Latest {} accuracy was: {} \\u00B1 {}%%\".format(\n",
    "        name, artifacts.mean, artifacts.std))"
   ]
  },
  {
   "cell_type": "code",
   "execution_count": null,
   "id": "f5a7bb59",
   "metadata": {},
   "outputs": [],
   "source": []
  }
 ],
 "metadata": {
  "kernelspec": {
   "display_name": "Python 3 (ipykernel)",
   "language": "python",
   "name": "python3"
  },
  "language_info": {
   "codemirror_mode": {
    "name": "ipython",
    "version": 3
   },
   "file_extension": ".py",
   "mimetype": "text/x-python",
   "name": "python",
   "nbconvert_exporter": "python",
   "pygments_lexer": "ipython3",
   "version": "3.11.5"
  }
 },
 "nbformat": 4,
 "nbformat_minor": 5
}
