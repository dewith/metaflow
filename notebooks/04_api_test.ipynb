{
 "cells": [
  {
   "cell_type": "markdown",
   "id": "84781676",
   "metadata": {},
   "source": [
    "Finally we can test the API by running the following cells"
   ]
  },
  {
   "cell_type": "code",
   "execution_count": 19,
   "id": "284d79f6",
   "metadata": {},
   "outputs": [],
   "source": [
    "import requests\n",
    "import urllib"
   ]
  },
  {
   "cell_type": "markdown",
   "id": "826f2aeb",
   "metadata": {},
   "source": [
    "Write your new review here. This will become the payload of your API request.\n",
    "\n",
    "In practice, this query may come from user input in an app, or wherever you want!"
   ]
  },
  {
   "cell_type": "code",
   "execution_count": 20,
   "id": "8b1dbff2",
   "metadata": {},
   "outputs": [],
   "source": [
    "review = (\n",
    "    \"As a self-proclaimed fashion enthusiast, I have tried \"\n",
    "    \"countless clothing items from various brands, but the \"\n",
    "    \"ComfyCloud 9000 Sweater has left me in awe! Not only did \"\n",
    "    \"it exceed my expectations, but it has also become my go-to \"\n",
    "    \"sweater for any occasion.\"\n",
    ")"
   ]
  },
  {
   "cell_type": "markdown",
   "id": "405e7abd",
   "metadata": {},
   "source": [
    "Configure the URL for the request."
   ]
  },
  {
   "cell_type": "code",
   "execution_count": 21,
   "id": "cc7f8dd8",
   "metadata": {},
   "outputs": [
    {
     "name": "stdout",
     "output_type": "stream",
     "text": [
      "http://127.0.0.1:8000/sentiment?review=As%20a%20self-proclaimed%20fashion%20enthusiast%2C%20I%20have%20tried%20countless%20clothing%20items%20from%20various%20brands%2C%20but%20the%20ComfyCloud%209000%20Sweater%20has%20left%20me%20in%20awe%21%20Not%20only%20did%20it%20exceed%20my%20expectations%2C%20but%20it%20has%20also%20become%20my%20go-to%20sweater%20for%20any%20occasion.&threshold=0.5\n"
     ]
    }
   ],
   "source": [
    "endpoint_uri_base = \"http://127.0.0.1:8000/\"\n",
    "threshold_value = 0.5\n",
    "sentiment_api_slug = (\n",
    "    f\"sentiment?review={urllib.parse.quote(review)}&threshold={threshold_value}\"\n",
    ")\n",
    "url = endpoint_uri_base + sentiment_api_slug\n",
    "\n",
    "print(url)"
   ]
  },
  {
   "cell_type": "markdown",
   "id": "451aa590",
   "metadata": {},
   "source": [
    "Make the request to the API"
   ]
  },
  {
   "cell_type": "code",
   "execution_count": 22,
   "id": "0181821d",
   "metadata": {},
   "outputs": [
    {
     "name": "stdout",
     "output_type": "stream",
     "text": [
      "Review: \"As a self-proclaimed fashion enthusiast, I have tried countless clothing items from various brands, but the ComfyCloud 9000 Sweater has left me in awe! Not only did it exceed my expectations, but it has also become my go-to sweater for any occasion.\"\n",
      "Sentiment: 0.568886935710907\n",
      "Prediction: positive\n"
     ]
    }
   ],
   "source": [
    "response = requests.get(url, verify=False, proxies={\"https\": endpoint_uri_base})\n",
    "\n",
    "print(f'Review: \"{review}\"')\n",
    "print(f'Sentiment: {response.json()[\"sentiment\"]}')\n",
    "print(f'Prediction: {response.json()[\"prediction\"]}')"
   ]
  }
 ],
 "metadata": {
  "kernelspec": {
   "display_name": "Python 3 (ipykernel)",
   "language": "python",
   "name": "python3"
  },
  "language_info": {
   "codemirror_mode": {
    "name": "ipython",
    "version": 3
   },
   "file_extension": ".py",
   "mimetype": "text/x-python",
   "name": "python",
   "nbconvert_exporter": "python",
   "pygments_lexer": "ipython3",
   "version": "3.11.5"
  }
 },
 "nbformat": 4,
 "nbformat_minor": 5
}
