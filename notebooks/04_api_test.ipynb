{
 "cells": [
  {
   "cell_type": "markdown",
   "id": "84781676",
   "metadata": {},
   "source": []
  },
  {
   "cell_type": "code",
   "execution_count": 1,
   "id": "284d79f6",
   "metadata": {},
   "outputs": [],
   "source": [
    "import requests \n",
    "import urllib"
   ]
  },
  {
   "cell_type": "code",
   "execution_count": null,
   "id": "5d72c9f4",
   "metadata": {},
   "outputs": [],
   "source": [
    "\n",
    "# Write your new review here. This will become the payload of your API request.\n",
    "# In practice, this query may come from user input in an app, or wherever you want!\n",
    "review = \"As a self-proclaimed fashion enthusiast, I have tried countless clothing items from various brands, but the ComfyCloud 9000 Sweater has left me in awe! Not only did it exceed my expectations, but it has also become my go-to sweater for any occasion.\"\n",
    "\n",
    "# Configure the URL for the request.  \n",
    "endpoint_uri_base = \"http://127.0.0.1:8000/\"  \n",
    "threshold_value = 0.5\n",
    "sentiment_api_slug = f\"sentiment?review={urllib.parse.quote(review)}&threshold={threshold_value}\"\n",
    "url = endpoint_uri_base + sentiment_api_slug\n",
    "\n",
    "# Make the request to your API.\n",
    "response = requests.get(url, verify=False, proxies={'https': endpoint_uri_base})\n",
    "\n",
    "# Report predicted sentiment of the review. \n",
    "print(f'Review: \"{review}\"')\n",
    "print(f'\\nPrediction: {response.json()[\"prediction\"]}')"
   ]
  }
 ],
 "metadata": {
  "kernelspec": {
   "display_name": "Python 3 (ipykernel)",
   "language": "python",
   "name": "python3"
  },
  "language_info": {
   "codemirror_mode": {
    "name": "ipython",
    "version": 3
   },
   "file_extension": ".py",
   "mimetype": "text/x-python",
   "name": "python",
   "nbconvert_exporter": "python",
   "pygments_lexer": "ipython3",
   "version": "3.11.5"
  }
 },
 "nbformat": 4,
 "nbformat_minor": 5
}
