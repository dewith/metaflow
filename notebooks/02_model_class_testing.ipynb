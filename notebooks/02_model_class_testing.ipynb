{
 "cells": [
  {
   "cell_type": "code",
   "execution_count": null,
   "id": "c890f379",
   "metadata": {},
   "outputs": [],
   "source": [
    "%cd ../src"
   ]
  },
  {
   "cell_type": "markdown",
   "id": "7dfa47c8",
   "metadata": {},
   "source": [
    "Here we are going to test our model class to make sure it works as expected."
   ]
  },
  {
   "cell_type": "code",
   "execution_count": null,
   "id": "40f80f58",
   "metadata": {},
   "outputs": [],
   "source": [
    "import importlib\n",
    "import pandas as pd\n",
    "from models.bow import NbowModel"
   ]
  },
  {
   "cell_type": "code",
   "execution_count": null,
   "id": "7e437f60",
   "metadata": {},
   "outputs": [],
   "source": [
    "# importlib.reload(NbowModel)"
   ]
  },
  {
   "cell_type": "markdown",
   "id": "a33b3891",
   "metadata": {},
   "source": [
    "### Load the Data"
   ]
  },
  {
   "cell_type": "code",
   "execution_count": null,
   "id": "07a9a0ac",
   "metadata": {},
   "outputs": [],
   "source": [
    "df = pd.read_parquet(\"../data/03_inputs/train.parquet\")\n",
    "print(f\"Num of rows: {df.shape[0]}\")"
   ]
  },
  {
   "cell_type": "code",
   "execution_count": null,
   "id": "cbd84ae2",
   "metadata": {},
   "outputs": [],
   "source": [
    "val_df = pd.read_parquet(\"../data/03_inputs/valid.parquet\")\n",
    "print(f\"Num of rows: {val_df.shape[0]}\")"
   ]
  },
  {
   "cell_type": "markdown",
   "id": "0ada9121",
   "metadata": {},
   "source": [
    "### Define the Model"
   ]
  },
  {
   "cell_type": "markdown",
   "id": "d607d0ee",
   "metadata": {},
   "source": [
    "### Train the Model"
   ]
  },
  {
   "cell_type": "code",
   "execution_count": null,
   "id": "c42808c1",
   "metadata": {},
   "outputs": [],
   "source": [
    "model = NbowModel(vocab_sz=750)"
   ]
  },
  {
   "cell_type": "code",
   "execution_count": null,
   "id": "b173406e",
   "metadata": {},
   "outputs": [],
   "source": [
    "model.fit(X=df[\"review\"], y=df[\"labels\"], epochs=1)"
   ]
  },
  {
   "cell_type": "markdown",
   "id": "e5e005fc",
   "metadata": {},
   "source": [
    "### Evaluate the model performance"
   ]
  },
  {
   "cell_type": "markdown",
   "id": "23a9a01f",
   "metadata": {},
   "source": [
    "Now we are going to evaluate the model performance and compare it to the baseline.\n",
    "- Baseline Accuracy: 0.773\n",
    "- Baseline AUC: 0.5"
   ]
  },
  {
   "cell_type": "code",
   "execution_count": null,
   "id": "4befaaab",
   "metadata": {},
   "outputs": [],
   "source": [
    "model_acc = model.eval_acc(val_df[\"review\"], val_df[\"labels\"])\n",
    "model_rocauc = model.eval_rocauc(val_df[\"review\"], val_df[\"labels\"])\n",
    "\n",
    "msg = \"Model Accuracy: {}\\nModel AUC: {}\"\n",
    "print(msg.format(round(model_acc, 3), round(model_rocauc, 3)))"
   ]
  },
  {
   "cell_type": "markdown",
   "id": "fd5af55f",
   "metadata": {},
   "source": [
    "Now that we confirmed that the model is working as expected we can move on to the next step."
   ]
  },
  {
   "cell_type": "markdown",
   "id": "5416130f",
   "metadata": {},
   "source": [
    "### Saving and loading the model"
   ]
  },
  {
   "cell_type": "code",
   "execution_count": null,
   "id": "d6c8dc7b",
   "metadata": {},
   "outputs": [],
   "source": [
    "model_dict = model.model_dict"
   ]
  },
  {
   "cell_type": "code",
   "execution_count": null,
   "id": "384ae244",
   "metadata": {},
   "outputs": [],
   "source": [
    "model_loaded = NbowModel.from_dict(model_dict)\n",
    "print(\n",
    "    \"Model Accuracy:\",\n",
    "    round(model_loaded.eval_acc(val_df[\"review\"], val_df[\"labels\"]), 3),\n",
    ")\n",
    "print(\n",
    "    \"Model AUC:\",\n",
    "    round(model_loaded.eval_rocauc(val_df[\"review\"], val_df[\"labels\"]), 3),\n",
    ")"
   ]
  }
 ],
 "metadata": {
  "kernelspec": {
   "display_name": "Python 3 (ipykernel)",
   "language": "python",
   "name": "python3"
  },
  "language_info": {
   "codemirror_mode": {
    "name": "ipython",
    "version": 3
   },
   "file_extension": ".py",
   "mimetype": "text/x-python",
   "name": "python",
   "nbconvert_exporter": "python",
   "pygments_lexer": "ipython3",
   "version": "3.11.5"
  }
 },
 "nbformat": 4,
 "nbformat_minor": 5
}
