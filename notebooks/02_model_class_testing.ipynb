{
 "cells": [
  {
   "cell_type": "markdown",
   "id": "7dfa47c8",
   "metadata": {},
   "source": [
    "Here we are going to test our model class to make sure it works as expected."
   ]
  },
  {
   "cell_type": "code",
   "execution_count": 14,
   "id": "40f80f58",
   "metadata": {},
   "outputs": [],
   "source": [
    "import tensorflow as tf\n",
    "from tensorflow.keras import layers, optimizers, regularizers\n",
    "from sklearn.metrics import accuracy_score, roc_auc_score\n",
    "from sklearn.feature_extraction.text import CountVectorizer\n",
    "\n",
    "import pandas as pd"
   ]
  },
  {
   "cell_type": "markdown",
   "id": "a33b3891",
   "metadata": {},
   "source": [
    "### Load the Data"
   ]
  },
  {
   "cell_type": "code",
   "execution_count": 15,
   "id": "07a9a0ac",
   "metadata": {},
   "outputs": [
    {
     "name": "stdout",
     "output_type": "stream",
     "text": [
      "Num of rows: 20377\n"
     ]
    }
   ],
   "source": [
    "df = pd.read_parquet(\"../data/train.parquet\")\n",
    "print(f\"Num of rows: {df.shape[0]}\")"
   ]
  },
  {
   "cell_type": "code",
   "execution_count": 16,
   "id": "cbd84ae2",
   "metadata": {},
   "outputs": [
    {
     "name": "stdout",
     "output_type": "stream",
     "text": [
      "Num of rows: 2264\n"
     ]
    }
   ],
   "source": [
    "val_df = pd.read_parquet(\"../data/valid.parquet\")\n",
    "print(f\"Num of rows: {val_df.shape[0]}\")"
   ]
  },
  {
   "cell_type": "markdown",
   "id": "0ada9121",
   "metadata": {},
   "source": [
    "### Define the Model"
   ]
  },
  {
   "cell_type": "code",
   "execution_count": 17,
   "id": "0e638d4d",
   "metadata": {},
   "outputs": [],
   "source": [
    "class NbowModel:\n",
    "    def __init__(self, vocab_sz):\n",
    "        self.vocab_sz = vocab_sz\n",
    "        # Instantiate the CountVectorizer\n",
    "        self.cv = CountVectorizer(\n",
    "            min_df=0.005,\n",
    "            max_df=0.75,\n",
    "            stop_words=\"english\",\n",
    "            strip_accents=\"ascii\",\n",
    "            max_features=self.vocab_sz,\n",
    "        )\n",
    "\n",
    "        # Define the keras model\n",
    "        inputs = tf.keras.Input(shape=(self.vocab_sz,), name=\"Input\")\n",
    "        x = layers.Dropout(0.10)(inputs)\n",
    "        x = layers.Dense(\n",
    "            15,\n",
    "            activation=\"relu\",\n",
    "            kernel_regularizer=regularizers.L1L2(l1=1e-5, l2=1e-4),\n",
    "        )(x)\n",
    "        predictions = layers.Dense(\n",
    "            1,\n",
    "            activation=\"sigmoid\",\n",
    "        )(x)\n",
    "        self.model = tf.keras.Model(inputs, predictions)\n",
    "        opt = optimizers.Adam(learning_rate=0.002)\n",
    "        self.model.compile(\n",
    "            loss=\"binary_crossentropy\", optimizer=opt, metrics=[\"accuracy\"]\n",
    "        )\n",
    "\n",
    "    def fit(self, X, y):\n",
    "        res = self.cv.fit_transform(X).toarray()\n",
    "        self.model.fit(x=res, y=y, batch_size=32, epochs=10, validation_split=0.2)\n",
    "\n",
    "    def predict(self, X):\n",
    "        res = self.cv.transform(X).toarray()\n",
    "        return self.model.predict(res)\n",
    "\n",
    "    def eval_acc(self, X, labels, threshold=0.5):\n",
    "        return accuracy_score(labels, self.predict(X) > threshold)\n",
    "\n",
    "    def eval_rocauc(self, X, labels):\n",
    "        return roc_auc_score(labels, self.predict(X))\n",
    "\n",
    "    @property\n",
    "    def model_dict(self):\n",
    "        return {\"vectorizer\": self.cv, \"model\": self.model}\n",
    "\n",
    "    @classmethod\n",
    "    def from_dict(cls, model_dict):\n",
    "        \"Get Model from dictionary\"\n",
    "        nbow_model = cls(len(model_dict[\"vectorizer\"].vocabulary_))\n",
    "        nbow_model.model = model_dict[\"model\"]\n",
    "        nbow_model.cv = model_dict[\"vectorizer\"]\n",
    "        return nbow_model"
   ]
  },
  {
   "cell_type": "markdown",
   "id": "d607d0ee",
   "metadata": {},
   "source": [
    "### Train the Model"
   ]
  },
  {
   "cell_type": "code",
   "execution_count": 18,
   "id": "b173406e",
   "metadata": {},
   "outputs": [
    {
     "name": "stdout",
     "output_type": "stream",
     "text": [
      "Epoch 1/10\n",
      "\u001b[1m510/510\u001b[0m \u001b[32m━━━━━━━━━━━━━━━━━━━━\u001b[0m\u001b[37m\u001b[0m \u001b[1m4s\u001b[0m 3ms/step - accuracy: 0.7876 - loss: 0.4506 - val_accuracy: 0.8810 - val_loss: 0.2956\n",
      "Epoch 2/10\n",
      "\u001b[1m510/510\u001b[0m \u001b[32m━━━━━━━━━━━━━━━━━━━━\u001b[0m\u001b[37m\u001b[0m \u001b[1m1s\u001b[0m 2ms/step - accuracy: 0.8821 - loss: 0.2972 - val_accuracy: 0.8751 - val_loss: 0.3036\n",
      "Epoch 3/10\n",
      "\u001b[1m510/510\u001b[0m \u001b[32m━━━━━━━━━━━━━━━━━━━━\u001b[0m\u001b[37m\u001b[0m \u001b[1m1s\u001b[0m 2ms/step - accuracy: 0.8892 - loss: 0.2863 - val_accuracy: 0.8790 - val_loss: 0.2947\n",
      "Epoch 4/10\n",
      "\u001b[1m510/510\u001b[0m \u001b[32m━━━━━━━━━━━━━━━━━━━━\u001b[0m\u001b[37m\u001b[0m \u001b[1m2s\u001b[0m 3ms/step - accuracy: 0.8874 - loss: 0.2790 - val_accuracy: 0.8795 - val_loss: 0.2950\n",
      "Epoch 5/10\n",
      "\u001b[1m510/510\u001b[0m \u001b[32m━━━━━━━━━━━━━━━━━━━━\u001b[0m\u001b[37m\u001b[0m \u001b[1m1s\u001b[0m 2ms/step - accuracy: 0.8972 - loss: 0.2659 - val_accuracy: 0.8756 - val_loss: 0.2983\n",
      "Epoch 6/10\n",
      "\u001b[1m510/510\u001b[0m \u001b[32m━━━━━━━━━━━━━━━━━━━━\u001b[0m\u001b[37m\u001b[0m \u001b[1m1s\u001b[0m 2ms/step - accuracy: 0.8978 - loss: 0.2617 - val_accuracy: 0.8761 - val_loss: 0.3026\n",
      "Epoch 7/10\n",
      "\u001b[1m510/510\u001b[0m \u001b[32m━━━━━━━━━━━━━━━━━━━━\u001b[0m\u001b[37m\u001b[0m \u001b[1m1s\u001b[0m 2ms/step - accuracy: 0.9063 - loss: 0.2471 - val_accuracy: 0.8776 - val_loss: 0.3112\n",
      "Epoch 8/10\n",
      "\u001b[1m510/510\u001b[0m \u001b[32m━━━━━━━━━━━━━━━━━━━━\u001b[0m\u001b[37m\u001b[0m \u001b[1m1s\u001b[0m 2ms/step - accuracy: 0.9114 - loss: 0.2401 - val_accuracy: 0.8778 - val_loss: 0.3135\n",
      "Epoch 9/10\n",
      "\u001b[1m510/510\u001b[0m \u001b[32m━━━━━━━━━━━━━━━━━━━━\u001b[0m\u001b[37m\u001b[0m \u001b[1m1s\u001b[0m 3ms/step - accuracy: 0.9126 - loss: 0.2320 - val_accuracy: 0.8737 - val_loss: 0.3235\n",
      "Epoch 10/10\n",
      "\u001b[1m510/510\u001b[0m \u001b[32m━━━━━━━━━━━━━━━━━━━━\u001b[0m\u001b[37m\u001b[0m \u001b[1m1s\u001b[0m 3ms/step - accuracy: 0.9242 - loss: 0.2188 - val_accuracy: 0.8732 - val_loss: 0.3254\n"
     ]
    }
   ],
   "source": [
    "model = NbowModel(vocab_sz=750)\n",
    "model.fit(X=df[\"review\"], y=df[\"labels\"])"
   ]
  },
  {
   "cell_type": "markdown",
   "id": "e5e005fc",
   "metadata": {},
   "source": [
    "### Evaluate the model performance"
   ]
  },
  {
   "cell_type": "markdown",
   "id": "23a9a01f",
   "metadata": {},
   "source": [
    "Now we are going to evaluate the model performance and compare it to the baseline.\n",
    "- Baseline Accuracy: 0.773\n",
    "- Baseline AUC: 0.5"
   ]
  },
  {
   "cell_type": "code",
   "execution_count": 19,
   "id": "4befaaab",
   "metadata": {},
   "outputs": [
    {
     "name": "stdout",
     "output_type": "stream",
     "text": [
      "\u001b[1m71/71\u001b[0m \u001b[32m━━━━━━━━━━━━━━━━━━━━\u001b[0m\u001b[37m\u001b[0m \u001b[1m0s\u001b[0m 2ms/step\n",
      "\u001b[1m71/71\u001b[0m \u001b[32m━━━━━━━━━━━━━━━━━━━━\u001b[0m\u001b[37m\u001b[0m \u001b[1m0s\u001b[0m 1ms/step\n",
      "Model Accuracy: 0.872\n",
      "Model AUC: 0.915\n"
     ]
    }
   ],
   "source": [
    "model_acc = model.eval_acc(val_df[\"review\"], val_df[\"labels\"])\n",
    "model_rocauc = model.eval_rocauc(val_df[\"review\"], val_df[\"labels\"])\n",
    "\n",
    "msg = \"Model Accuracy: {}\\nModel AUC: {}\"\n",
    "print(msg.format(round(model_acc, 3), round(model_rocauc, 3)))"
   ]
  },
  {
   "cell_type": "markdown",
   "id": "fd5af55f",
   "metadata": {},
   "source": [
    "Now that we confirmed that the model is working as expected we can move on to the next step."
   ]
  },
  {
   "cell_type": "markdown",
   "id": "5416130f",
   "metadata": {},
   "source": [
    "### Saving and loading the model"
   ]
  },
  {
   "cell_type": "code",
   "execution_count": 20,
   "id": "d6c8dc7b",
   "metadata": {},
   "outputs": [],
   "source": [
    "model_dict = model.model_dict"
   ]
  },
  {
   "cell_type": "code",
   "execution_count": 21,
   "id": "384ae244",
   "metadata": {},
   "outputs": [
    {
     "name": "stdout",
     "output_type": "stream",
     "text": [
      "\u001b[1m71/71\u001b[0m \u001b[32m━━━━━━━━━━━━━━━━━━━━\u001b[0m\u001b[37m\u001b[0m \u001b[1m0s\u001b[0m 1ms/step\n",
      "Model Accuracy: 0.872\n",
      "\u001b[1m71/71\u001b[0m \u001b[32m━━━━━━━━━━━━━━━━━━━━\u001b[0m\u001b[37m\u001b[0m \u001b[1m0s\u001b[0m 1ms/step  \n",
      "Model AUC: 0.915\n"
     ]
    }
   ],
   "source": [
    "model_loaded = NbowModel.from_dict(model_dict)\n",
    "print(\n",
    "    \"Model Accuracy:\",\n",
    "    round(model_loaded.eval_acc(val_df[\"review\"], val_df[\"labels\"]), 3)\n",
    ")\n",
    "print(\n",
    "    \"Model AUC:\",\n",
    "    round(model_loaded.eval_rocauc(val_df[\"review\"], val_df[\"labels\"]), 3)\n",
    ")"
   ]
  }
 ],
 "metadata": {
  "kernelspec": {
   "display_name": "Python 3 (ipykernel)",
   "language": "python",
   "name": "python3"
  },
  "language_info": {
   "codemirror_mode": {
    "name": "ipython",
    "version": 3
   },
   "file_extension": ".py",
   "mimetype": "text/x-python",
   "name": "python",
   "nbconvert_exporter": "python",
   "pygments_lexer": "ipython3",
   "version": "3.11.5"
  }
 },
 "nbformat": 4,
 "nbformat_minor": 5
}
