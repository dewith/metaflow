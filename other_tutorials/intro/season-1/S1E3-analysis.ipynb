{
 "cells": [
  {
   "cell_type": "markdown",
   "id": "a752799e-5918-483f-9a9f-fae76c8fd4aa",
   "metadata": {},
   "source": [
    "In season 1 episode 3 of the Introduction to Metaflow tutorial, you learned the basics of how to:\n",
    "* Handle data that your workflow reads and writes across (potentially) many computers.\n",
    "* Use Metaflow as an experiment tracking solution. \n",
    "\n",
    "You wrote a flow called `ArtifactFlow` in the `artifact_flow.py` file and ran it with the following command:\n",
    "```\n",
    "python artifact_flow.py run\n",
    "```\n",
    "\n",
    "Now you can accesss the results of the flow run from any Python environment. In this case we show how you can import the run data into a Jupyter Notebook environment:"
   ]
  },
  {
   "cell_type": "code",
   "execution_count": 1,
   "id": "c0617951-3a8f-4a43-a14e-a77c87acfc08",
   "metadata": {},
   "outputs": [
    {
     "data": {
      "text/plain": [
       "[[10, 20, 30], [40, 50, 60], [70, 80, 90]]"
      ]
     },
     "execution_count": 1,
     "metadata": {},
     "output_type": "execute_result"
    }
   ],
   "source": [
    "from metaflow import Flow\n",
    "run_artifacts = Flow(\"ArtifactFlow\").latest_run.data\n",
    "run_artifacts.dataset"
   ]
  }
 ],
 "metadata": {
  "kernelspec": {
   "display_name": "Python 3 (ipykernel)",
   "language": "python",
   "name": "python3"
  },
  "language_info": {
   "codemirror_mode": {
    "name": "ipython",
    "version": 3
   },
   "file_extension": ".py",
   "mimetype": "text/x-python",
   "name": "python",
   "nbconvert_exporter": "python",
   "pygments_lexer": "ipython3",
   "version": "3.11.5"
  }
 },
 "nbformat": 4,
 "nbformat_minor": 5
}
